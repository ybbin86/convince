{
 "cells": [
  {
   "cell_type": "code",
   "execution_count": 179,
   "id": "6fb16cc3",
   "metadata": {},
   "outputs": [],
   "source": [
    "import pandas as pd\n",
    "from sklearn.preprocessing import OneHotEncoder,StandardScaler, MinMaxScaler, RobustScaler\n",
    "from sklearn.compose import make_column_transformer\n",
    "from sklearn.ensemble import RandomForestRegressor"
   ]
  },
  {
   "cell_type": "code",
   "execution_count": 211,
   "id": "e0606934",
   "metadata": {},
   "outputs": [],
   "source": [
    "df_train = pd.read_csv('/Users/ybeen/yb/github/convince/dynamic-pricing/data_preprocessing/data/season_point.csv')"
   ]
  },
  {
   "cell_type": "code",
   "execution_count": 212,
   "id": "9c5652f9",
   "metadata": {},
   "outputs": [
    {
     "data": {
      "text/html": [
       "<div>\n",
       "<style scoped>\n",
       "    .dataframe tbody tr th:only-of-type {\n",
       "        vertical-align: middle;\n",
       "    }\n",
       "\n",
       "    .dataframe tbody tr th {\n",
       "        vertical-align: top;\n",
       "    }\n",
       "\n",
       "    .dataframe thead th {\n",
       "        text-align: right;\n",
       "    }\n",
       "</style>\n",
       "<table border=\"1\" class=\"dataframe\">\n",
       "  <thead>\n",
       "    <tr style=\"text-align: right;\">\n",
       "      <th></th>\n",
       "      <th>품목명</th>\n",
       "      <th>등급</th>\n",
       "      <th>월</th>\n",
       "      <th>평균가격</th>\n",
       "      <th>최고가격</th>\n",
       "      <th>최저가격</th>\n",
       "      <th>계절지수</th>\n",
       "      <th>카테고리</th>\n",
       "      <th>원가</th>\n",
       "    </tr>\n",
       "  </thead>\n",
       "  <tbody>\n",
       "    <tr>\n",
       "      <th>0</th>\n",
       "      <td>사과 모리스_15</td>\n",
       "      <td>상</td>\n",
       "      <td>9</td>\n",
       "      <td>36463.625000</td>\n",
       "      <td>43381.250000</td>\n",
       "      <td>31325.000000</td>\n",
       "      <td>2.588596</td>\n",
       "      <td>사과</td>\n",
       "      <td>25060.000000</td>\n",
       "    </tr>\n",
       "    <tr>\n",
       "      <th>1</th>\n",
       "      <td>사과 모리스_15</td>\n",
       "      <td>상</td>\n",
       "      <td>10</td>\n",
       "      <td>33967.666667</td>\n",
       "      <td>40222.222222</td>\n",
       "      <td>31409.722222</td>\n",
       "      <td>2.411404</td>\n",
       "      <td>사과</td>\n",
       "      <td>25127.777778</td>\n",
       "    </tr>\n",
       "    <tr>\n",
       "      <th>2</th>\n",
       "      <td>사과 모리스_15</td>\n",
       "      <td>중</td>\n",
       "      <td>9</td>\n",
       "      <td>24945.220833</td>\n",
       "      <td>31095.833333</td>\n",
       "      <td>19222.916667</td>\n",
       "      <td>2.386727</td>\n",
       "      <td>사과</td>\n",
       "      <td>15378.333333</td>\n",
       "    </tr>\n",
       "    <tr>\n",
       "      <th>3</th>\n",
       "      <td>사과 모리스_15</td>\n",
       "      <td>중</td>\n",
       "      <td>10</td>\n",
       "      <td>27313.000000</td>\n",
       "      <td>31118.055556</td>\n",
       "      <td>22923.611111</td>\n",
       "      <td>2.613273</td>\n",
       "      <td>사과</td>\n",
       "      <td>18338.888889</td>\n",
       "    </tr>\n",
       "    <tr>\n",
       "      <th>4</th>\n",
       "      <td>사과 모리스_15</td>\n",
       "      <td>특</td>\n",
       "      <td>9</td>\n",
       "      <td>45311.481250</td>\n",
       "      <td>47993.750000</td>\n",
       "      <td>43443.750000</td>\n",
       "      <td>2.608181</td>\n",
       "      <td>사과</td>\n",
       "      <td>34755.000000</td>\n",
       "    </tr>\n",
       "    <tr>\n",
       "      <th>...</th>\n",
       "      <td>...</td>\n",
       "      <td>...</td>\n",
       "      <td>...</td>\n",
       "      <td>...</td>\n",
       "      <td>...</td>\n",
       "      <td>...</td>\n",
       "      <td>...</td>\n",
       "      <td>...</td>\n",
       "      <td>...</td>\n",
       "    </tr>\n",
       "    <tr>\n",
       "      <th>1960</th>\n",
       "      <td>월동배추_10.0</td>\n",
       "      <td>중</td>\n",
       "      <td>3</td>\n",
       "      <td>2400.000000</td>\n",
       "      <td>2600.000000</td>\n",
       "      <td>2200.000000</td>\n",
       "      <td>9.820972</td>\n",
       "      <td>배추</td>\n",
       "      <td>1760.000000</td>\n",
       "    </tr>\n",
       "    <tr>\n",
       "      <th>1961</th>\n",
       "      <td>월동배추_10.0</td>\n",
       "      <td>특</td>\n",
       "      <td>2</td>\n",
       "      <td>3212.500000</td>\n",
       "      <td>3225.000000</td>\n",
       "      <td>3200.000000</td>\n",
       "      <td>10.178218</td>\n",
       "      <td>배추</td>\n",
       "      <td>2560.000000</td>\n",
       "    </tr>\n",
       "    <tr>\n",
       "      <th>1962</th>\n",
       "      <td>월동배추_10.0</td>\n",
       "      <td>특</td>\n",
       "      <td>3</td>\n",
       "      <td>3100.000000</td>\n",
       "      <td>3150.000000</td>\n",
       "      <td>3050.000000</td>\n",
       "      <td>9.821782</td>\n",
       "      <td>배추</td>\n",
       "      <td>2440.000000</td>\n",
       "    </tr>\n",
       "    <tr>\n",
       "      <th>1963</th>\n",
       "      <td>월동배추_10.0</td>\n",
       "      <td>하</td>\n",
       "      <td>2</td>\n",
       "      <td>1700.000000</td>\n",
       "      <td>2250.000000</td>\n",
       "      <td>1150.000000</td>\n",
       "      <td>10.000000</td>\n",
       "      <td>배추</td>\n",
       "      <td>920.000000</td>\n",
       "    </tr>\n",
       "    <tr>\n",
       "      <th>1964</th>\n",
       "      <td>월동배추_10.0</td>\n",
       "      <td>하</td>\n",
       "      <td>3</td>\n",
       "      <td>1700.000000</td>\n",
       "      <td>2200.000000</td>\n",
       "      <td>1200.000000</td>\n",
       "      <td>10.000000</td>\n",
       "      <td>배추</td>\n",
       "      <td>960.000000</td>\n",
       "    </tr>\n",
       "  </tbody>\n",
       "</table>\n",
       "<p>1965 rows × 9 columns</p>\n",
       "</div>"
      ],
      "text/plain": [
       "            품목명 등급   월          평균가격          최고가격          최저가격       계절지수  \\\n",
       "0     사과 모리스_15  상   9  36463.625000  43381.250000  31325.000000   2.588596   \n",
       "1     사과 모리스_15  상  10  33967.666667  40222.222222  31409.722222   2.411404   \n",
       "2     사과 모리스_15  중   9  24945.220833  31095.833333  19222.916667   2.386727   \n",
       "3     사과 모리스_15  중  10  27313.000000  31118.055556  22923.611111   2.613273   \n",
       "4     사과 모리스_15  특   9  45311.481250  47993.750000  43443.750000   2.608181   \n",
       "...         ... ..  ..           ...           ...           ...        ...   \n",
       "1960  월동배추_10.0  중   3   2400.000000   2600.000000   2200.000000   9.820972   \n",
       "1961  월동배추_10.0  특   2   3212.500000   3225.000000   3200.000000  10.178218   \n",
       "1962  월동배추_10.0  특   3   3100.000000   3150.000000   3050.000000   9.821782   \n",
       "1963  월동배추_10.0  하   2   1700.000000   2250.000000   1150.000000  10.000000   \n",
       "1964  월동배추_10.0  하   3   1700.000000   2200.000000   1200.000000  10.000000   \n",
       "\n",
       "     카테고리            원가  \n",
       "0      사과  25060.000000  \n",
       "1      사과  25127.777778  \n",
       "2      사과  15378.333333  \n",
       "3      사과  18338.888889  \n",
       "4      사과  34755.000000  \n",
       "...   ...           ...  \n",
       "1960   배추   1760.000000  \n",
       "1961   배추   2560.000000  \n",
       "1962   배추   2440.000000  \n",
       "1963   배추    920.000000  \n",
       "1964   배추    960.000000  \n",
       "\n",
       "[1965 rows x 9 columns]"
      ]
     },
     "execution_count": 212,
     "metadata": {},
     "output_type": "execute_result"
    }
   ],
   "source": [
    "df_train['계절지수'] = df_train['계절지수']*10\n",
    "df_train"
   ]
  },
  {
   "cell_type": "code",
   "execution_count": 196,
   "id": "b1c0a78d",
   "metadata": {},
   "outputs": [],
   "source": [
    "# 등급, 월, 최고가격, 최저가격, 카테고리, 원가\n",
    "x_train = df_train.drop(['품목명', '평균가격', '등급', '월'], axis=1)\n",
    "y_train = df_train['평균가격']"
   ]
  },
  {
   "cell_type": "code",
   "execution_count": 280,
   "id": "3f5b2a38",
   "metadata": {},
   "outputs": [
    {
     "data": {
      "text/plain": [
       "array([[-0.10348582, -0.10646033, -0.10646033, ...,  0.        ,\n",
       "         0.        ,  2.5885955 ],\n",
       "       [-0.11015643, -0.10623823, -0.10623823, ...,  0.        ,\n",
       "         0.        ,  2.4114045 ],\n",
       "       [-0.12942775, -0.13818671, -0.13818671, ...,  0.        ,\n",
       "         0.        ,  2.38672695],\n",
       "       ...,\n",
       "       [-0.18843826, -0.18058504, -0.18058504, ...,  0.        ,\n",
       "         0.        ,  9.82178218],\n",
       "       [-0.19033871, -0.18556601, -0.18556601, ...,  0.        ,\n",
       "         0.        , 10.        ],\n",
       "       [-0.19044429, -0.18543493, -0.18543493, ...,  0.        ,\n",
       "         0.        , 10.        ]])"
      ]
     },
     "execution_count": 280,
     "metadata": {},
     "output_type": "execute_result"
    }
   ],
   "source": []
  },
  {
   "cell_type": "code",
   "execution_count": 173,
   "id": "59ff4178",
   "metadata": {},
   "outputs": [
    {
     "data": {
      "text/plain": [
       "Index(['최고가격', '최저가격', '계절지수', '카테고리', '원가'], dtype='object')"
      ]
     },
     "execution_count": 173,
     "metadata": {},
     "output_type": "execute_result"
    }
   ],
   "source": [
    "df_train.drop(['품목명', '평균가격', '등급', '월'], axis=1).columns"
   ]
  },
  {
   "cell_type": "code",
   "execution_count": 311,
   "id": "a27d2cd1",
   "metadata": {},
   "outputs": [
    {
     "name": "stdout",
     "output_type": "stream",
     "text": [
      "Index(['최고가격', '최저가격', '계절지수', '카테고리', '원가'], dtype='object')\n"
     ]
    }
   ],
   "source": [
    "x_train = df_train.drop(['품목명', '평균가격', '등급', '월'], axis=1)\n",
    "y_train = df_train['평균가격']\n",
    "transformer = make_column_transformer(\n",
    "    (StandardScaler(), ['최고가격', '최저가격', '원가']),\n",
    "    (OneHotEncoder(), ['카테고리']),\n",
    "    remainder='passthrough')\n",
    "transformer.fit(x_train)\n",
    "print(x_train.columns)\n",
    "x_train = transformer.transform(x_train)"
   ]
  },
  {
   "cell_type": "code",
   "execution_count": 312,
   "id": "f0c9f971",
   "metadata": {},
   "outputs": [
    {
     "data": {
      "text/html": [
       "<style>#sk-container-id-13 {color: black;background-color: white;}#sk-container-id-13 pre{padding: 0;}#sk-container-id-13 div.sk-toggleable {background-color: white;}#sk-container-id-13 label.sk-toggleable__label {cursor: pointer;display: block;width: 100%;margin-bottom: 0;padding: 0.3em;box-sizing: border-box;text-align: center;}#sk-container-id-13 label.sk-toggleable__label-arrow:before {content: \"▸\";float: left;margin-right: 0.25em;color: #696969;}#sk-container-id-13 label.sk-toggleable__label-arrow:hover:before {color: black;}#sk-container-id-13 div.sk-estimator:hover label.sk-toggleable__label-arrow:before {color: black;}#sk-container-id-13 div.sk-toggleable__content {max-height: 0;max-width: 0;overflow: hidden;text-align: left;background-color: #f0f8ff;}#sk-container-id-13 div.sk-toggleable__content pre {margin: 0.2em;color: black;border-radius: 0.25em;background-color: #f0f8ff;}#sk-container-id-13 input.sk-toggleable__control:checked~div.sk-toggleable__content {max-height: 200px;max-width: 100%;overflow: auto;}#sk-container-id-13 input.sk-toggleable__control:checked~label.sk-toggleable__label-arrow:before {content: \"▾\";}#sk-container-id-13 div.sk-estimator input.sk-toggleable__control:checked~label.sk-toggleable__label {background-color: #d4ebff;}#sk-container-id-13 div.sk-label input.sk-toggleable__control:checked~label.sk-toggleable__label {background-color: #d4ebff;}#sk-container-id-13 input.sk-hidden--visually {border: 0;clip: rect(1px 1px 1px 1px);clip: rect(1px, 1px, 1px, 1px);height: 1px;margin: -1px;overflow: hidden;padding: 0;position: absolute;width: 1px;}#sk-container-id-13 div.sk-estimator {font-family: monospace;background-color: #f0f8ff;border: 1px dotted black;border-radius: 0.25em;box-sizing: border-box;margin-bottom: 0.5em;}#sk-container-id-13 div.sk-estimator:hover {background-color: #d4ebff;}#sk-container-id-13 div.sk-parallel-item::after {content: \"\";width: 100%;border-bottom: 1px solid gray;flex-grow: 1;}#sk-container-id-13 div.sk-label:hover label.sk-toggleable__label {background-color: #d4ebff;}#sk-container-id-13 div.sk-serial::before {content: \"\";position: absolute;border-left: 1px solid gray;box-sizing: border-box;top: 0;bottom: 0;left: 50%;z-index: 0;}#sk-container-id-13 div.sk-serial {display: flex;flex-direction: column;align-items: center;background-color: white;padding-right: 0.2em;padding-left: 0.2em;position: relative;}#sk-container-id-13 div.sk-item {position: relative;z-index: 1;}#sk-container-id-13 div.sk-parallel {display: flex;align-items: stretch;justify-content: center;background-color: white;position: relative;}#sk-container-id-13 div.sk-item::before, #sk-container-id-13 div.sk-parallel-item::before {content: \"\";position: absolute;border-left: 1px solid gray;box-sizing: border-box;top: 0;bottom: 0;left: 50%;z-index: -1;}#sk-container-id-13 div.sk-parallel-item {display: flex;flex-direction: column;z-index: 1;position: relative;background-color: white;}#sk-container-id-13 div.sk-parallel-item:first-child::after {align-self: flex-end;width: 50%;}#sk-container-id-13 div.sk-parallel-item:last-child::after {align-self: flex-start;width: 50%;}#sk-container-id-13 div.sk-parallel-item:only-child::after {width: 0;}#sk-container-id-13 div.sk-dashed-wrapped {border: 1px dashed gray;margin: 0 0.4em 0.5em 0.4em;box-sizing: border-box;padding-bottom: 0.4em;background-color: white;}#sk-container-id-13 div.sk-label label {font-family: monospace;font-weight: bold;display: inline-block;line-height: 1.2em;}#sk-container-id-13 div.sk-label-container {text-align: center;}#sk-container-id-13 div.sk-container {/* jupyter's `normalize.less` sets `[hidden] { display: none; }` but bootstrap.min.css set `[hidden] { display: none !important; }` so we also need the `!important` here to be able to override the default hidden behavior on the sphinx rendered scikit-learn.org. See: https://github.com/scikit-learn/scikit-learn/issues/21755 */display: inline-block !important;position: relative;}#sk-container-id-13 div.sk-text-repr-fallback {display: none;}</style><div id=\"sk-container-id-13\" class=\"sk-top-container\"><div class=\"sk-text-repr-fallback\"><pre>RandomForestRegressor()</pre><b>In a Jupyter environment, please rerun this cell to show the HTML representation or trust the notebook. <br />On GitHub, the HTML representation is unable to render, please try loading this page with nbviewer.org.</b></div><div class=\"sk-container\" hidden><div class=\"sk-item\"><div class=\"sk-estimator sk-toggleable\"><input class=\"sk-toggleable__control sk-hidden--visually\" id=\"sk-estimator-id-19\" type=\"checkbox\" checked><label for=\"sk-estimator-id-19\" class=\"sk-toggleable__label sk-toggleable__label-arrow\">RandomForestRegressor</label><div class=\"sk-toggleable__content\"><pre>RandomForestRegressor()</pre></div></div></div></div></div>"
      ],
      "text/plain": [
       "RandomForestRegressor()"
      ]
     },
     "execution_count": 312,
     "metadata": {},
     "output_type": "execute_result"
    }
   ],
   "source": [
    "model = RandomForestRegressor()\n",
    "model.fit(x_train, y_train)"
   ]
  },
  {
   "cell_type": "code",
   "execution_count": 313,
   "id": "1b9cf862",
   "metadata": {},
   "outputs": [
    {
     "name": "stdout",
     "output_type": "stream",
     "text": [
      "0.9997250064638971\n"
     ]
    }
   ],
   "source": [
    "print(model.score(x_train, y_train))"
   ]
  },
  {
   "cell_type": "code",
   "execution_count": 314,
   "id": "02cb9390",
   "metadata": {},
   "outputs": [],
   "source": [
    "price = 6000\n",
    "max_m = 0.15\n",
    "min_m = 0.06\n",
    "x_test = [[price + price*max_m, price + price*min_m, 3.66, '배', price]]\n",
    "x_test = pd.DataFrame(x_test, columns=['최고가격', '최저가격', '계절지수', '카테고리', '원가'])\n",
    "x_test = transformer.transform(x_test)\n",
    "\n",
    "y_predict = model.predict(x_test)"
   ]
  },
  {
   "cell_type": "code",
   "execution_count": 315,
   "id": "86e8d698",
   "metadata": {
    "scrolled": false
   },
   "outputs": [
    {
     "name": "stdout",
     "output_type": "stream",
     "text": [
      "6965.546493673244\n",
      "6630.0\n",
      "6360.0 ~ 6900.0\n"
     ]
    }
   ],
   "source": [
    "print(y_predict[0])\n",
    "print(((price + price*max_m)+(price + price*min_m))/2)\n",
    "print(f'{price + price*min_m} ~ {price + price*max_m}')"
   ]
  },
  {
   "cell_type": "code",
   "execution_count": 316,
   "id": "626316b5",
   "metadata": {},
   "outputs": [
    {
     "data": {
      "text/html": [
       "<style>#sk-container-id-14 {color: black;background-color: white;}#sk-container-id-14 pre{padding: 0;}#sk-container-id-14 div.sk-toggleable {background-color: white;}#sk-container-id-14 label.sk-toggleable__label {cursor: pointer;display: block;width: 100%;margin-bottom: 0;padding: 0.3em;box-sizing: border-box;text-align: center;}#sk-container-id-14 label.sk-toggleable__label-arrow:before {content: \"▸\";float: left;margin-right: 0.25em;color: #696969;}#sk-container-id-14 label.sk-toggleable__label-arrow:hover:before {color: black;}#sk-container-id-14 div.sk-estimator:hover label.sk-toggleable__label-arrow:before {color: black;}#sk-container-id-14 div.sk-toggleable__content {max-height: 0;max-width: 0;overflow: hidden;text-align: left;background-color: #f0f8ff;}#sk-container-id-14 div.sk-toggleable__content pre {margin: 0.2em;color: black;border-radius: 0.25em;background-color: #f0f8ff;}#sk-container-id-14 input.sk-toggleable__control:checked~div.sk-toggleable__content {max-height: 200px;max-width: 100%;overflow: auto;}#sk-container-id-14 input.sk-toggleable__control:checked~label.sk-toggleable__label-arrow:before {content: \"▾\";}#sk-container-id-14 div.sk-estimator input.sk-toggleable__control:checked~label.sk-toggleable__label {background-color: #d4ebff;}#sk-container-id-14 div.sk-label input.sk-toggleable__control:checked~label.sk-toggleable__label {background-color: #d4ebff;}#sk-container-id-14 input.sk-hidden--visually {border: 0;clip: rect(1px 1px 1px 1px);clip: rect(1px, 1px, 1px, 1px);height: 1px;margin: -1px;overflow: hidden;padding: 0;position: absolute;width: 1px;}#sk-container-id-14 div.sk-estimator {font-family: monospace;background-color: #f0f8ff;border: 1px dotted black;border-radius: 0.25em;box-sizing: border-box;margin-bottom: 0.5em;}#sk-container-id-14 div.sk-estimator:hover {background-color: #d4ebff;}#sk-container-id-14 div.sk-parallel-item::after {content: \"\";width: 100%;border-bottom: 1px solid gray;flex-grow: 1;}#sk-container-id-14 div.sk-label:hover label.sk-toggleable__label {background-color: #d4ebff;}#sk-container-id-14 div.sk-serial::before {content: \"\";position: absolute;border-left: 1px solid gray;box-sizing: border-box;top: 0;bottom: 0;left: 50%;z-index: 0;}#sk-container-id-14 div.sk-serial {display: flex;flex-direction: column;align-items: center;background-color: white;padding-right: 0.2em;padding-left: 0.2em;position: relative;}#sk-container-id-14 div.sk-item {position: relative;z-index: 1;}#sk-container-id-14 div.sk-parallel {display: flex;align-items: stretch;justify-content: center;background-color: white;position: relative;}#sk-container-id-14 div.sk-item::before, #sk-container-id-14 div.sk-parallel-item::before {content: \"\";position: absolute;border-left: 1px solid gray;box-sizing: border-box;top: 0;bottom: 0;left: 50%;z-index: -1;}#sk-container-id-14 div.sk-parallel-item {display: flex;flex-direction: column;z-index: 1;position: relative;background-color: white;}#sk-container-id-14 div.sk-parallel-item:first-child::after {align-self: flex-end;width: 50%;}#sk-container-id-14 div.sk-parallel-item:last-child::after {align-self: flex-start;width: 50%;}#sk-container-id-14 div.sk-parallel-item:only-child::after {width: 0;}#sk-container-id-14 div.sk-dashed-wrapped {border: 1px dashed gray;margin: 0 0.4em 0.5em 0.4em;box-sizing: border-box;padding-bottom: 0.4em;background-color: white;}#sk-container-id-14 div.sk-label label {font-family: monospace;font-weight: bold;display: inline-block;line-height: 1.2em;}#sk-container-id-14 div.sk-label-container {text-align: center;}#sk-container-id-14 div.sk-container {/* jupyter's `normalize.less` sets `[hidden] { display: none; }` but bootstrap.min.css set `[hidden] { display: none !important; }` so we also need the `!important` here to be able to override the default hidden behavior on the sphinx rendered scikit-learn.org. See: https://github.com/scikit-learn/scikit-learn/issues/21755 */display: inline-block !important;position: relative;}#sk-container-id-14 div.sk-text-repr-fallback {display: none;}</style><div id=\"sk-container-id-14\" class=\"sk-top-container\"><div class=\"sk-text-repr-fallback\"><pre>ColumnTransformer(remainder=&#x27;passthrough&#x27;,\n",
       "                  transformers=[(&#x27;standardscaler&#x27;, StandardScaler(),\n",
       "                                 [&#x27;최고가격&#x27;, &#x27;최저가격&#x27;, &#x27;원가&#x27;]),\n",
       "                                (&#x27;onehotencoder&#x27;, OneHotEncoder(), [&#x27;카테고리&#x27;])])</pre><b>In a Jupyter environment, please rerun this cell to show the HTML representation or trust the notebook. <br />On GitHub, the HTML representation is unable to render, please try loading this page with nbviewer.org.</b></div><div class=\"sk-container\" hidden><div class=\"sk-item sk-dashed-wrapped\"><div class=\"sk-label-container\"><div class=\"sk-label sk-toggleable\"><input class=\"sk-toggleable__control sk-hidden--visually\" id=\"sk-estimator-id-20\" type=\"checkbox\" ><label for=\"sk-estimator-id-20\" class=\"sk-toggleable__label sk-toggleable__label-arrow\">ColumnTransformer</label><div class=\"sk-toggleable__content\"><pre>ColumnTransformer(remainder=&#x27;passthrough&#x27;,\n",
       "                  transformers=[(&#x27;standardscaler&#x27;, StandardScaler(),\n",
       "                                 [&#x27;최고가격&#x27;, &#x27;최저가격&#x27;, &#x27;원가&#x27;]),\n",
       "                                (&#x27;onehotencoder&#x27;, OneHotEncoder(), [&#x27;카테고리&#x27;])])</pre></div></div></div><div class=\"sk-parallel\"><div class=\"sk-parallel-item\"><div class=\"sk-item\"><div class=\"sk-label-container\"><div class=\"sk-label sk-toggleable\"><input class=\"sk-toggleable__control sk-hidden--visually\" id=\"sk-estimator-id-21\" type=\"checkbox\" ><label for=\"sk-estimator-id-21\" class=\"sk-toggleable__label sk-toggleable__label-arrow\">standardscaler</label><div class=\"sk-toggleable__content\"><pre>[&#x27;최고가격&#x27;, &#x27;최저가격&#x27;, &#x27;원가&#x27;]</pre></div></div></div><div class=\"sk-serial\"><div class=\"sk-item\"><div class=\"sk-estimator sk-toggleable\"><input class=\"sk-toggleable__control sk-hidden--visually\" id=\"sk-estimator-id-22\" type=\"checkbox\" ><label for=\"sk-estimator-id-22\" class=\"sk-toggleable__label sk-toggleable__label-arrow\">StandardScaler</label><div class=\"sk-toggleable__content\"><pre>StandardScaler()</pre></div></div></div></div></div></div><div class=\"sk-parallel-item\"><div class=\"sk-item\"><div class=\"sk-label-container\"><div class=\"sk-label sk-toggleable\"><input class=\"sk-toggleable__control sk-hidden--visually\" id=\"sk-estimator-id-23\" type=\"checkbox\" ><label for=\"sk-estimator-id-23\" class=\"sk-toggleable__label sk-toggleable__label-arrow\">onehotencoder</label><div class=\"sk-toggleable__content\"><pre>[&#x27;카테고리&#x27;]</pre></div></div></div><div class=\"sk-serial\"><div class=\"sk-item\"><div class=\"sk-estimator sk-toggleable\"><input class=\"sk-toggleable__control sk-hidden--visually\" id=\"sk-estimator-id-24\" type=\"checkbox\" ><label for=\"sk-estimator-id-24\" class=\"sk-toggleable__label sk-toggleable__label-arrow\">OneHotEncoder</label><div class=\"sk-toggleable__content\"><pre>OneHotEncoder()</pre></div></div></div></div></div></div><div class=\"sk-parallel-item\"><div class=\"sk-item\"><div class=\"sk-label-container\"><div class=\"sk-label sk-toggleable\"><input class=\"sk-toggleable__control sk-hidden--visually\" id=\"sk-estimator-id-25\" type=\"checkbox\" ><label for=\"sk-estimator-id-25\" class=\"sk-toggleable__label sk-toggleable__label-arrow\">remainder</label><div class=\"sk-toggleable__content\"><pre>[&#x27;계절지수&#x27;]</pre></div></div></div><div class=\"sk-serial\"><div class=\"sk-item\"><div class=\"sk-estimator sk-toggleable\"><input class=\"sk-toggleable__control sk-hidden--visually\" id=\"sk-estimator-id-26\" type=\"checkbox\" ><label for=\"sk-estimator-id-26\" class=\"sk-toggleable__label sk-toggleable__label-arrow\">passthrough</label><div class=\"sk-toggleable__content\"><pre>passthrough</pre></div></div></div></div></div></div></div></div></div></div>"
      ],
      "text/plain": [
       "ColumnTransformer(remainder='passthrough',\n",
       "                  transformers=[('standardscaler', StandardScaler(),\n",
       "                                 ['최고가격', '최저가격', '원가']),\n",
       "                                ('onehotencoder', OneHotEncoder(), ['카테고리'])])"
      ]
     },
     "execution_count": 316,
     "metadata": {},
     "output_type": "execute_result"
    }
   ],
   "source": [
    "transformer"
   ]
  },
  {
   "cell_type": "code",
   "execution_count": 317,
   "id": "b2dd7fc4",
   "metadata": {},
   "outputs": [],
   "source": [
    "import pickle\n",
    "\n",
    "pickle.dump(transformer, open('./transformer.pkl', 'wb'))"
   ]
  },
  {
   "cell_type": "code",
   "execution_count": 322,
   "id": "f48b95bb",
   "metadata": {},
   "outputs": [],
   "source": [
    "load_transformer = pickle.load(open('./transformer.pkl', 'rb'))\n"
   ]
  },
  {
   "cell_type": "code",
   "execution_count": 323,
   "id": "2b7eb8aa",
   "metadata": {},
   "outputs": [],
   "source": [
    "pickle.dump(model, open('new_price.pkl', 'wb'))"
   ]
  },
  {
   "cell_type": "code",
   "execution_count": 324,
   "id": "37a7306c",
   "metadata": {},
   "outputs": [],
   "source": [
    "load_model = pickle.load(open('./new_price.pkl', 'rb'))"
   ]
  },
  {
   "cell_type": "code",
   "execution_count": 325,
   "id": "e72baad6",
   "metadata": {},
   "outputs": [],
   "source": [
    "x_test = [[45000, 30000, 0.266, '사과', 25000]]\n",
    "x_test = pd.DataFrame(x_test, columns=['최고가격', '최저가격', '계절지수', '카테고리', '원가'])\n",
    "x_test = load_transformer.transform(x_test)\n",
    "y_predict = load_model.predict(x_test)"
   ]
  },
  {
   "cell_type": "code",
   "execution_count": 326,
   "id": "edbf8e3c",
   "metadata": {},
   "outputs": [
    {
     "data": {
      "text/plain": [
       "array([36942.17780831])"
      ]
     },
     "execution_count": 326,
     "metadata": {},
     "output_type": "execute_result"
    }
   ],
   "source": [
    "y_predict"
   ]
  },
  {
   "cell_type": "code",
   "execution_count": null,
   "id": "c8189084",
   "metadata": {},
   "outputs": [],
   "source": []
  }
 ],
 "metadata": {
  "kernelspec": {
   "display_name": "Python 3 (ipykernel)",
   "language": "python",
   "name": "python3"
  },
  "language_info": {
   "codemirror_mode": {
    "name": "ipython",
    "version": 3
   },
   "file_extension": ".py",
   "mimetype": "text/x-python",
   "name": "python",
   "nbconvert_exporter": "python",
   "pygments_lexer": "ipython3",
   "version": "3.9.10"
  }
 },
 "nbformat": 4,
 "nbformat_minor": 5
}
