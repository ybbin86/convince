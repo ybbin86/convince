{
 "cells": [
  {
   "cell_type": "code",
   "execution_count": 4,
   "id": "13755609",
   "metadata": {},
   "outputs": [],
   "source": [
    "import pandas as pd"
   ]
  },
  {
   "cell_type": "code",
   "execution_count": 2,
   "id": "0f96d054",
   "metadata": {},
   "outputs": [],
   "source": [
    "import pickle\n",
    "\n",
    "load_transformer = pickle.load(open('./transformer.pkl', 'rb'))\n",
    "load_model = pickle.load(open('./new_price.pkl', 'rb'))"
   ]
  },
  {
   "cell_type": "code",
   "execution_count": 5,
   "id": "44963c52",
   "metadata": {},
   "outputs": [],
   "source": [
    "x_test = [['상', 8, 45000, 30000, 0.266, '사과', 25000]]\n",
    "x_test = pd.DataFrame(x_test, columns=['등급', '월', '최고가격', '최저가격', '계절지수', '카테고리', '원가'])\n",
    "x_test = load_transformer.transform(x_test)\n",
    "y_predict = load_model.predict(x_test)"
   ]
  },
  {
   "cell_type": "code",
   "execution_count": 6,
   "id": "b3c13ee5",
   "metadata": {},
   "outputs": [
    {
     "data": {
      "text/plain": [
       "array([24501.32407836])"
      ]
     },
     "execution_count": 6,
     "metadata": {},
     "output_type": "execute_result"
    }
   ],
   "source": [
    "y_predict"
   ]
  },
  {
   "cell_type": "code",
   "execution_count": 10,
   "id": "d29f9ebf",
   "metadata": {},
   "outputs": [
    {
     "data": {
      "text/plain": [
       "24500"
      ]
     },
     "execution_count": 10,
     "metadata": {},
     "output_type": "execute_result"
    }
   ],
   "source": [
    "int(round(y_predict[0],-2))"
   ]
  },
  {
   "cell_type": "code",
   "execution_count": null,
   "id": "13fc7126",
   "metadata": {},
   "outputs": [],
   "source": []
  }
 ],
 "metadata": {
  "kernelspec": {
   "display_name": "Python 3 (ipykernel)",
   "language": "python",
   "name": "python3"
  },
  "language_info": {
   "codemirror_mode": {
    "name": "ipython",
    "version": 3
   },
   "file_extension": ".py",
   "mimetype": "text/x-python",
   "name": "python",
   "nbconvert_exporter": "python",
   "pygments_lexer": "ipython3",
   "version": "3.9.10"
  }
 },
 "nbformat": 4,
 "nbformat_minor": 5
}
