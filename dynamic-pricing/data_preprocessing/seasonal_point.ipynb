{
 "cells": [
  {
   "cell_type": "code",
   "execution_count": 2,
   "id": "f88ef0fe",
   "metadata": {},
   "outputs": [],
   "source": [
    "import pandas as pd"
   ]
  },
  {
   "cell_type": "code",
   "execution_count": 85,
   "id": "9211e82b",
   "metadata": {},
   "outputs": [],
   "source": [
    "apple = pd.read_csv('apple.csv')\n",
    "pear = pd.read_csv('pear.csv')\n",
    "water_melon = pd.read_csv('water_melon.csv')\n",
    "grape = pd.read_csv('grape.csv')\n",
    "cabbage = pd.read_csv('cabbage.csv')"
   ]
  },
  {
   "cell_type": "code",
   "execution_count": 82,
   "id": "19e07c04",
   "metadata": {},
   "outputs": [],
   "source": [
    "def get_season_point(_df):\n",
    "    df = _df.copy()\n",
    "    df['월'] = df['일자'].apply(lambda x: str(x)[-2:])\n",
    "    df_sum = df.groupby(['품목명','등급']).sum()\n",
    "    df_sum = df_sum.reset_index()\n",
    "    df_month = df.groupby(['품목명','등급', '월']).mean()\n",
    "    df_month = df_month.reset_index()\n",
    "    df_month['계절지수'] = 0\n",
    "    for name in df_month['품목명'].unique():\n",
    "        for level in df_month['등급'].unique():\n",
    "            for month in df_month['월'].unique():\n",
    "                try:\n",
    "                    m = len(df_month[(df_month['품목명']==name) & (df_month['등급']==level)])\n",
    "                    i = df_month[(df_month['품목명']==name) & (df_month['등급']==level) & (df_month['월']==month)].index[0]\n",
    "                    df_month.at[i,'계절지수'] = df_month.loc[i]['평균가격']/df_sum[(df_sum['품목명']==name) & (df_sum['등급']==level)]['평균가격'].values[0]*m\n",
    "                except IndexError:\n",
    "                    continue\n",
    "    \n",
    "    return df_month"
   ]
  },
  {
   "cell_type": "code",
   "execution_count": 86,
   "id": "f944d0c5",
   "metadata": {},
   "outputs": [],
   "source": [
    "apple_season = get_season_point(apple)\n",
    "pear_season = get_season_point(pear)\n",
    "water_melon_season = get_season_point(water_melon)\n",
    "grape_season = get_season_point(grape)\n",
    "cabbage_season = get_season_point(cabbage)"
   ]
  },
  {
   "cell_type": "code",
   "execution_count": 96,
   "id": "e6a295da",
   "metadata": {},
   "outputs": [],
   "source": [
    "df = pd.concat([apple_season,pear_season,water_melon_season,grape_season,cabbage_season])"
   ]
  },
  {
   "cell_type": "code",
   "execution_count": 97,
   "id": "2b9979ff",
   "metadata": {},
   "outputs": [],
   "source": [
    "df = df.drop(['품목코드', '일자'], axis='columns')"
   ]
  },
  {
   "cell_type": "code",
   "execution_count": 99,
   "id": "fde8f78a",
   "metadata": {},
   "outputs": [],
   "source": [
    "df.to_csv('season_point.csv', index=False)"
   ]
  },
  {
   "cell_type": "code",
   "execution_count": null,
   "id": "e7376028",
   "metadata": {},
   "outputs": [],
   "source": []
  }
 ],
 "metadata": {
  "kernelspec": {
   "display_name": "Python 3 (ipykernel)",
   "language": "python",
   "name": "python3"
  },
  "language_info": {
   "codemirror_mode": {
    "name": "ipython",
    "version": 3
   },
   "file_extension": ".py",
   "mimetype": "text/x-python",
   "name": "python",
   "nbconvert_exporter": "python",
   "pygments_lexer": "ipython3",
   "version": "3.9.10"
  }
 },
 "nbformat": 4,
 "nbformat_minor": 5
}
