{
 "cells": [
  {
   "cell_type": "code",
   "execution_count": 1,
   "id": "f88ef0fe",
   "metadata": {},
   "outputs": [],
   "source": [
    "import pandas as pd"
   ]
  },
  {
   "cell_type": "code",
   "execution_count": 12,
   "id": "9211e82b",
   "metadata": {},
   "outputs": [],
   "source": [
    "apple = pd.read_csv('/Users/ybeen/Downloads/Bas_GarakPrice_사과.csv', encoding='cp949')"
   ]
  },
  {
   "cell_type": "code",
   "execution_count": 19,
   "id": "8826d902",
   "metadata": {},
   "outputs": [],
   "source": [
    "apple['품목명'] = apple['품목명'].apply(lambda x: x[11:])"
   ]
  },
  {
   "cell_type": "code",
   "execution_count": 20,
   "id": "6ca447b1",
   "metadata": {},
   "outputs": [
    {
     "data": {
      "text/html": [
       "<div>\n",
       "<style scoped>\n",
       "    .dataframe tbody tr th:only-of-type {\n",
       "        vertical-align: middle;\n",
       "    }\n",
       "\n",
       "    .dataframe tbody tr th {\n",
       "        vertical-align: top;\n",
       "    }\n",
       "\n",
       "    .dataframe thead th {\n",
       "        text-align: right;\n",
       "    }\n",
       "</style>\n",
       "<table border=\"1\" class=\"dataframe\">\n",
       "  <thead>\n",
       "    <tr style=\"text-align: right;\">\n",
       "      <th></th>\n",
       "      <th>일자</th>\n",
       "      <th>품목명</th>\n",
       "      <th>단량</th>\n",
       "      <th>등급</th>\n",
       "      <th>평균가격</th>\n",
       "      <th>최고가격</th>\n",
       "      <th>최저가격</th>\n",
       "    </tr>\n",
       "  </thead>\n",
       "  <tbody>\n",
       "    <tr>\n",
       "      <th>0</th>\n",
       "      <td>20211030</td>\n",
       "      <td>사과 홍옥</td>\n",
       "      <td>10</td>\n",
       "      <td>특</td>\n",
       "      <td>54167</td>\n",
       "      <td>60000</td>\n",
       "      <td>49000</td>\n",
       "    </tr>\n",
       "    <tr>\n",
       "      <th>1</th>\n",
       "      <td>20211030</td>\n",
       "      <td>사과 홍옥</td>\n",
       "      <td>10</td>\n",
       "      <td>상</td>\n",
       "      <td>42417</td>\n",
       "      <td>49000</td>\n",
       "      <td>33000</td>\n",
       "    </tr>\n",
       "    <tr>\n",
       "      <th>2</th>\n",
       "      <td>20211030</td>\n",
       "      <td>사과 홍옥</td>\n",
       "      <td>10</td>\n",
       "      <td>하</td>\n",
       "      <td>18583</td>\n",
       "      <td>21000</td>\n",
       "      <td>15000</td>\n",
       "    </tr>\n",
       "    <tr>\n",
       "      <th>3</th>\n",
       "      <td>20211030</td>\n",
       "      <td>사과 홍옥</td>\n",
       "      <td>10</td>\n",
       "      <td>중</td>\n",
       "      <td>27038</td>\n",
       "      <td>33000</td>\n",
       "      <td>24000</td>\n",
       "    </tr>\n",
       "    <tr>\n",
       "      <th>4</th>\n",
       "      <td>20211029</td>\n",
       "      <td>사과 홍옥</td>\n",
       "      <td>10</td>\n",
       "      <td>하</td>\n",
       "      <td>18583</td>\n",
       "      <td>21000</td>\n",
       "      <td>15000</td>\n",
       "    </tr>\n",
       "    <tr>\n",
       "      <th>...</th>\n",
       "      <td>...</td>\n",
       "      <td>...</td>\n",
       "      <td>...</td>\n",
       "      <td>...</td>\n",
       "      <td>...</td>\n",
       "      <td>...</td>\n",
       "      <td>...</td>\n",
       "    </tr>\n",
       "    <tr>\n",
       "      <th>61023</th>\n",
       "      <td>20030903</td>\n",
       "      <td>사과 홍로</td>\n",
       "      <td>5</td>\n",
       "      <td>특</td>\n",
       "      <td>49000</td>\n",
       "      <td>55000</td>\n",
       "      <td>43000</td>\n",
       "    </tr>\n",
       "    <tr>\n",
       "      <th>61024</th>\n",
       "      <td>20030902</td>\n",
       "      <td>사과 홍로</td>\n",
       "      <td>5</td>\n",
       "      <td>특</td>\n",
       "      <td>44000</td>\n",
       "      <td>50000</td>\n",
       "      <td>38000</td>\n",
       "    </tr>\n",
       "    <tr>\n",
       "      <th>61025</th>\n",
       "      <td>20030902</td>\n",
       "      <td>사과 홍로</td>\n",
       "      <td>5</td>\n",
       "      <td>중</td>\n",
       "      <td>19000</td>\n",
       "      <td>23000</td>\n",
       "      <td>15000</td>\n",
       "    </tr>\n",
       "    <tr>\n",
       "      <th>61026</th>\n",
       "      <td>20030902</td>\n",
       "      <td>사과 홍로</td>\n",
       "      <td>5</td>\n",
       "      <td>하</td>\n",
       "      <td>11000</td>\n",
       "      <td>15000</td>\n",
       "      <td>7000</td>\n",
       "    </tr>\n",
       "    <tr>\n",
       "      <th>61027</th>\n",
       "      <td>20030902</td>\n",
       "      <td>사과 홍로</td>\n",
       "      <td>5</td>\n",
       "      <td>상</td>\n",
       "      <td>30500</td>\n",
       "      <td>38000</td>\n",
       "      <td>23000</td>\n",
       "    </tr>\n",
       "  </tbody>\n",
       "</table>\n",
       "<p>61028 rows × 7 columns</p>\n",
       "</div>"
      ],
      "text/plain": [
       "             일자    품목명  단량 등급   평균가격   최고가격   최저가격\n",
       "0      20211030  사과 홍옥  10  특  54167  60000  49000\n",
       "1      20211030  사과 홍옥  10  상  42417  49000  33000\n",
       "2      20211030  사과 홍옥  10  하  18583  21000  15000\n",
       "3      20211030  사과 홍옥  10  중  27038  33000  24000\n",
       "4      20211029  사과 홍옥  10  하  18583  21000  15000\n",
       "...         ...    ...  .. ..    ...    ...    ...\n",
       "61023  20030903  사과 홍로   5  특  49000  55000  43000\n",
       "61024  20030902  사과 홍로   5  특  44000  50000  38000\n",
       "61025  20030902  사과 홍로   5  중  19000  23000  15000\n",
       "61026  20030902  사과 홍로   5  하  11000  15000   7000\n",
       "61027  20030902  사과 홍로   5  상  30500  38000  23000\n",
       "\n",
       "[61028 rows x 7 columns]"
      ]
     },
     "execution_count": 20,
     "metadata": {},
     "output_type": "execute_result"
    }
   ],
   "source": [
    "apple"
   ]
  },
  {
   "cell_type": "code",
   "execution_count": 14,
   "id": "c9d45a98",
   "metadata": {},
   "outputs": [],
   "source": [
    "a= '과실류 > 사과 > 사과 홍옥'"
   ]
  },
  {
   "cell_type": "code",
   "execution_count": 18,
   "id": "05ea39ff",
   "metadata": {},
   "outputs": [
    {
     "data": {
      "text/plain": [
       "'사과 홍옥'"
      ]
     },
     "execution_count": 18,
     "metadata": {},
     "output_type": "execute_result"
    }
   ],
   "source": [
    "a[11:]"
   ]
  },
  {
   "cell_type": "code",
   "execution_count": null,
   "id": "34656cdf",
   "metadata": {},
   "outputs": [],
   "source": []
  }
 ],
 "metadata": {
  "kernelspec": {
   "display_name": "Python 3 (ipykernel)",
   "language": "python",
   "name": "python3"
  },
  "language_info": {
   "codemirror_mode": {
    "name": "ipython",
    "version": 3
   },
   "file_extension": ".py",
   "mimetype": "text/x-python",
   "name": "python",
   "nbconvert_exporter": "python",
   "pygments_lexer": "ipython3",
   "version": "3.9.10"
  }
 },
 "nbformat": 4,
 "nbformat_minor": 5
}
